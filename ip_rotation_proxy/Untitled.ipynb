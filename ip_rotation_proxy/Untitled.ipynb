{
 "cells": [
  {
   "cell_type": "code",
   "execution_count": 1,
   "id": "c5e3db1f-6319-4c24-b9af-0ee3715937b4",
   "metadata": {},
   "outputs": [],
   "source": [
    "import requests\n",
    "proxy = { \n",
    "     \"http\":\"http://160.11.12.13:1020\",\n",
    "      \"https\":\"http://160.11.12.13:1020\"\n",
    "  }"
   ]
  },
  {
   "cell_type": "code",
   "execution_count": 5,
   "id": "723adfaa-f2f2-4d7c-a064-fc7ed59a533c",
   "metadata": {},
   "outputs": [
    {
     "name": "stderr",
     "output_type": "stream",
     "text": [
      "C:\\Users\\sabuz\\AppData\\Local\\Programs\\Python\\Python311\\Lib\\site-packages\\urllib3\\connectionpool.py:1095: InsecureRequestWarning: Unverified HTTPS request is being made to host 'linksrt.com'. Adding certificate verification is strongly advised. See: https://urllib3.readthedocs.io/en/latest/advanced-usage.html#tls-warnings\n",
      "  warnings.warn(\n"
     ]
    },
    {
     "data": {
      "text/plain": [
       "<Response [200]>"
      ]
     },
     "execution_count": 5,
     "metadata": {},
     "output_type": "execute_result"
    }
   ],
   "source": [
    "requests.get('https://linksrt.com', verify=False)"
   ]
  },
  {
   "cell_type": "code",
   "execution_count": 6,
   "id": "8f398dc3-db7a-45a1-85c3-781608eee133",
   "metadata": {},
   "outputs": [
    {
     "name": "stdout",
     "output_type": "stream",
     "text": [
      "Your Computer Name is:DESKTOP-VFMGOK5\n",
      "Your Computer IP Address is:192.168.56.1\n"
     ]
    }
   ],
   "source": [
    "import socket\n",
    "hostname=socket.gethostname()\n",
    "IPAddr=socket.gethostbyname(hostname)\n",
    "print(\"Your Computer Name is:\"+hostname)\n",
    "print(\"Your Computer IP Address is:\"+IPAddr)"
   ]
  },
  {
   "cell_type": "code",
   "execution_count": 12,
   "id": "60bb44c6-303b-4adb-895f-b0c3d0e35da9",
   "metadata": {},
   "outputs": [
    {
     "name": "stdout",
     "output_type": "stream",
     "text": [
      "IP that is being checked:  163.53.18.119:80\n",
      "IP that is being checked:  50.170.90.28:80\n",
      "IP that is being checked:  198.49.68.80:80\n",
      "IP that is being checked:  50.217.226.40:80\n",
      "IP that is being checked:  107.1.93.223:80\n",
      "IP that is being checked:  50.170.90.26:80\n",
      "IP that is being checked:  50.173.140.145:80\n",
      "IP that is being checked:  50.168.163.178:80\n",
      "IP that is being checked:  103.152.112.234:80\n",
      "IP that is being checked:  50.172.23.10:80\n",
      "IP that is being checked:  78.157.36.102:80\n",
      "IP that is being checked:  190.103.177.131:80\n",
      "IP that is being checked:  50.217.226.43:80\n",
      "IP that is being checked:  107.1.93.222:80\n",
      "IP that is being checked:  47.88.62.42:80\n",
      "IP that is being checked:  8.212.131.161:8080\n",
      "IP that is being checked:  47.74.152.29:8888\n",
      "IP that is being checked:  50.174.34.186:80\n",
      "IP that is being checked:  50.218.57.69:80\n",
      "IP that is being checked:  185.164.73.117:80\n",
      "IP that is being checked:  103.177.137.132:80\n",
      "IP that is being checked:  50.204.219.226:80\n",
      "IP that is being checked:  50.168.163.183:80\n",
      "IP that is being checked:  50.206.111.88:80\n",
      "IP that is being checked:  50.168.72.115:80\n",
      "IP that is being checked:  103.176.14.46:80\n",
      "IP that is being checked:  139.59.1.14:8080\n",
      "IP that is being checked:  50.228.83.226:80\n",
      "IP that is being checked:  50.204.219.228:80\n",
      "IP that is being checked:  190.58.248.86:80\n",
      "IP that is being checked:  50.175.31.250:80\n",
      "IP that is being checked:  50.174.7.154:80\n",
      "IP that is being checked:  50.207.199.85:80\n",
      "IP that is being checked:  50.222.245.40:80\n",
      "IP that is being checked:  195.114.209.50:80\n",
      "IP that is being checked:  91.249.134.148:80\n",
      "IP that is being checked:  50.207.199.83:80\n",
      "IP that is being checked:  50.170.90.31:80\n",
      "IP that is being checked:  50.169.62.109:80\n",
      "IP that is being checked:  50.239.72.18:80\n",
      "IP that is being checked:  43.255.113.232:80\n",
      "IP that is being checked:  50.171.2.10:80\n",
      "IP that is being checked:  13.81.217.201:80\n",
      "IP that is being checked:  \n",
      "Working IPs:  []\n",
      "Not Working IPs:  ['163.53.18.119:80', '50.170.90.28:80', '198.49.68.80:80', '50.217.226.40:80', '107.1.93.223:80', '50.170.90.26:80', '50.173.140.145:80', '50.168.163.178:80', '103.152.112.234:80', '50.172.23.10:80', '78.157.36.102:80', '190.103.177.131:80', '50.217.226.43:80', '107.1.93.222:80', '47.88.62.42:80', '8.212.131.161:8080', '47.74.152.29:8888', '50.174.34.186:80', '50.218.57.69:80', '185.164.73.117:80', '103.177.137.132:80', '50.204.219.226:80', '50.168.163.183:80', '50.206.111.88:80', '50.168.72.115:80', '103.176.14.46:80', '139.59.1.14:8080', '50.228.83.226:80', '50.204.219.228:80', '190.58.248.86:80', '50.175.31.250:80', '50.174.7.154:80', '50.207.199.85:80', '50.222.245.40:80', '195.114.209.50:80', '91.249.134.148:80', '50.207.199.83:80', '50.170.90.31:80', '50.169.62.109:80', '50.239.72.18:80', '43.255.113.232:80', '50.171.2.10:80', '13.81.217.201:80', '']\n"
     ]
    }
   ],
   "source": [
    "import requests\n",
    "import random\n",
    "\n",
    "proxy_list = []\n",
    "with open('raw_proxy_list.txt') as f :\n",
    "    for line in f:\n",
    "        proxy_list.append(line.strip())\n",
    "    working_proxies = []\n",
    "    not_working_proxies = []\n",
    "    for i in proxy_list:\n",
    "        print('IP that is being checked: ', i)\n",
    "        try:\n",
    "            proxy = {\n",
    "                \n",
    "                \"https\":\"http://\"+i\n",
    "            }\n",
    "            res = requests.get('https://linksrt.com', verify=False, proxies=proxy)\n",
    "            working_proxies.append(i)\n",
    "        except:\n",
    "            not_working_proxies.append(i)\n",
    "            pass\n",
    "\n",
    "print(\"Working IPs: \", working_proxies)\n",
    "print(\"Not Working IPs: \", not_working_proxies)"
   ]
  }
 ],
 "metadata": {
  "kernelspec": {
   "display_name": "Python 3 (ipykernel)",
   "language": "python",
   "name": "python3"
  },
  "language_info": {
   "codemirror_mode": {
    "name": "ipython",
    "version": 3
   },
   "file_extension": ".py",
   "mimetype": "text/x-python",
   "name": "python",
   "nbconvert_exporter": "python",
   "pygments_lexer": "ipython3",
   "version": "3.11.4"
  }
 },
 "nbformat": 4,
 "nbformat_minor": 5
}
